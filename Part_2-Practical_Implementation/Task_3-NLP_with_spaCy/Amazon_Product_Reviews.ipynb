{
 "cells": [
  {
   "cell_type": "markdown",
   "id": "1aa1c1af",
   "metadata": {},
   "source": [
    "# Amazon Product Reviews."
   ]
  }
 ],
 "metadata": {
  "kernelspec": {
   "display_name": "Python 3",
   "language": "python",
   "name": "python3"
  },
  "language_info": {
   "name": "python",
   "version": "3.13.7"
  }
 },
 "nbformat": 4,
 "nbformat_minor": 5
}
